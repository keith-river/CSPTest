{
  "nbformat": 4,
  "nbformat_minor": 0,
  "metadata": {
    "colab": {
      "name": "DA-Greedy.ipynb",
      "provenance": [],
      "collapsed_sections": [],
      "authorship_tag": "ABX9TyNoI4pRMREI5l7PMolswzK1",
      "include_colab_link": true
    },
    "kernelspec": {
      "name": "python3",
      "display_name": "Python 3"
    },
    "language_info": {
      "name": "python"
    }
  },
  "cells": [
    {
      "cell_type": "markdown",
      "metadata": {
        "id": "view-in-github",
        "colab_type": "text"
      },
      "source": [
        "<a href=\"https://colab.research.google.com/github/keith-river/CSPTest/blob/master/DA_Greedy.ipynb\" target=\"_parent\"><img src=\"https://colab.research.google.com/assets/colab-badge.svg\" alt=\"Open In Colab\"/></a>"
      ]
    },
    {
      "cell_type": "code",
      "metadata": {
        "colab": {
          "base_uri": "https://localhost:8080/"
        },
        "id": "EXufsGaFPvmU",
        "outputId": "9d87dae8-875a-4930-b011-641cf0ced8a3"
      },
      "source": [
        "# Greedy coin changing\n",
        "Price=777\n",
        "Yen=[500,100,50,10,5,1]\n",
        "\n",
        "Coins,Count=[],0\n",
        "Pay=Price\n",
        "while Pay>0:\n",
        "  for yen in Yen:\n",
        "    n = Pay // yen\n",
        "    Pay %= yen\n",
        "    Coins += [(yen,n)]\n",
        "    Count += n\n",
        "\n",
        "print(f'Price={Price}, Coins={Coins},  total={Count} coins')\n"
      ],
      "execution_count": 40,
      "outputs": [
        {
          "output_type": "stream",
          "text": [
            "Price=777, Coins=[(500, 1), (100, 2), (50, 1), (10, 2), (5, 1), (1, 2)],  total=9 coins\n"
          ],
          "name": "stdout"
        }
      ]
    },
    {
      "cell_type": "code",
      "metadata": {
        "colab": {
          "base_uri": "https://localhost:8080/"
        },
        "id": "AnJpBb2Og6WU",
        "outputId": "a476c8c8-058e-4dd7-9d53-227d3a9e6ba3"
      },
      "source": [
        "# coin changing\n",
        "\n",
        "INF= 10**9+7\n",
        "\n",
        "def min_coins(i,pay,coins):\n",
        "  if pay==0:\n",
        "    return 0,[]\n",
        "  elif pay<0 or i<0:\n",
        "    return INF,[]\n",
        "  nin,ins   = min_coins(i,pay-coins[i],coins)\n",
        "  nout,outs = min_coins(i-1,pay,coins)\n",
        "  if nin+1<nout:\n",
        "    return nin+1,ins+[coins[i]]\n",
        "  else:\n",
        "    return nout,outs\n",
        "\n",
        "pedis=[10,6,5,1]\n",
        "pay=18\n",
        "nc,coins = min_coins(len(pedis)-1,pay,pedis)\n",
        "print(f'pay={pay} pedis changes into -> min n={nc} coins : {coins}')"
      ],
      "execution_count": 3,
      "outputs": [
        {
          "output_type": "stream",
          "text": [
            "pay=18 pedis changes into -> min n=3 coins : [6, 6, 6]\n"
          ],
          "name": "stdout"
        }
      ]
    },
    {
      "cell_type": "code",
      "metadata": {
        "colab": {
          "base_uri": "https://localhost:8080/"
        },
        "id": "Dd_JJ384xDEK",
        "outputId": "7cac6b9c-abdb-4b2d-b434-4b076c15daec"
      },
      "source": [
        "# Minimum Spanning Tree\n",
        "# Union Find, Kruskal method\n",
        "\n",
        "# Graph=(V,E_Cost)\n",
        "V=list(range(1,7))\n",
        "# [ (cost,vertex,vertex) ]\n",
        "E=[(4,1,2),(1,1,3),(7,1,4),(7,1,5),(3,2,3),(5,2,4),(6,2,6),\n",
        "  (8,3,4),(9,3,5),(11,3,6),(10,4,5),(12,4,6),(2,5,6)]\n",
        "\n",
        "# Yet another Graph\n",
        "\n",
        "E=[(7,1,2),(8,2,3),(5,1,4),(9,2,4),(7,2,5),(5,3,5),(15,4,5),\n",
        "  (6,4,6),(8,5,6),(9,5,7),(11,6,7)]\n",
        "\n",
        "E=sorted(E) # cost minimum ordered\n",
        "# Union-Find set -> for connectivity check\n",
        "print(E)\n",
        "p=list(range(len(E)))\n",
        "def root(x):\n",
        "  if x==p[x]:\n",
        "    return x\n",
        "  p[x]=y=root(p[x])\n",
        "  return y\n",
        "\n",
        "def unite(x,y):\n",
        "  px,py=root(x),root(y)\n",
        "  if px==py:  # x and y are same roots-> connective\n",
        "    return False\n",
        "  if px<py:\n",
        "    p[py]=px\n",
        "  else:\n",
        "    p[px]=py\n",
        "  return True\n",
        "\n",
        "vertex,cost=[],0\n",
        "for c,v,w in E:\n",
        "  if unite(v,w):\n",
        "    vertex += [(v,w)]\n",
        "    cost += c\n",
        "\n",
        "print(f'MinSpanTree: Vertex={vertex}, Cost={cost}')"
      ],
      "execution_count": 19,
      "outputs": [
        {
          "output_type": "stream",
          "text": [
            "[(5, 1, 4), (5, 3, 5), (6, 4, 6), (7, 1, 2), (7, 2, 5), (8, 2, 3), (8, 5, 6), (9, 2, 4), (9, 5, 7), (11, 6, 7), (15, 4, 5)]\n",
            "MinSpanTree: Vertex=[(1, 4), (3, 5), (4, 6), (1, 2), (2, 5), (5, 7)], Cost=39\n"
          ],
          "name": "stdout"
        }
      ]
    },
    {
      "cell_type": "code",
      "metadata": {
        "colab": {
          "base_uri": "https://localhost:8080/"
        },
        "id": "T1w7bWhNFxeK",
        "outputId": "be483018-3fa3-4fee-bb3b-88558b52a384"
      },
      "source": [
        "!pip install pulp"
      ],
      "execution_count": 27,
      "outputs": [
        {
          "output_type": "stream",
          "text": [
            "Requirement already satisfied: pulp in /usr/local/lib/python3.7/dist-packages (2.4)\n",
            "Requirement already satisfied: amply>=0.1.2 in /usr/local/lib/python3.7/dist-packages (from pulp) (0.1.4)\n",
            "Requirement already satisfied: pyparsing in /usr/local/lib/python3.7/dist-packages (from amply>=0.1.2->pulp) (2.4.7)\n",
            "Requirement already satisfied: docutils>=0.3 in /usr/local/lib/python3.7/dist-packages (from amply>=0.1.2->pulp) (0.17.1)\n"
          ],
          "name": "stdout"
        }
      ]
    },
    {
      "cell_type": "code",
      "metadata": {
        "colab": {
          "base_uri": "https://localhost:8080/"
        },
        "id": "ONPTiXEPF7SL",
        "outputId": "b63a7a30-6a8e-4ca4-b3e6-daa9992e5113"
      },
      "source": [
        "# Linear Programming LP \n",
        "# Python PuLP\n",
        "import pulp\n",
        "\n",
        "# 0-1 Knap sack problem\n",
        "V=[12,2,1,1,4]\n",
        "W=[4,2,2,1,10]\n",
        "Capa=15\n",
        "\n",
        "# LP model \n",
        "R = range(len(V))\n",
        "P = pulp.LpProblem(sense=pulp.LpMaximize)\n",
        "X = [ pulp.LpVariable(f'x{i}',cat=pulp.LpBinary) for i in R ]\n",
        "# Objective Function\n",
        "P += pulp.lpDot(V,X)\n",
        "# Constraints\n",
        "P += pulp.lpDot(W,X)<=Capa\n",
        "print(P)\n",
        "P.solve()\n",
        "\n",
        "Mv = pulp.value(P.objective)\n",
        "Sel = [ item for item in R if pulp.value(X[item])>0 ]\n",
        "print(f'Max Value={Mv}/selected items={Sel}')"
      ],
      "execution_count": 32,
      "outputs": [
        {
          "output_type": "stream",
          "text": [
            "NoName:\n",
            "MAXIMIZE\n",
            "12*x0 + 2*x1 + 1*x2 + 1*x3 + 4*x4 + 0\n",
            "SUBJECT TO\n",
            "_C1: 4 x0 + 2 x1 + 2 x2 + x3 + 10 x4 <= 15\n",
            "\n",
            "VARIABLES\n",
            "0 <= x0 <= 1 Integer\n",
            "0 <= x1 <= 1 Integer\n",
            "0 <= x2 <= 1 Integer\n",
            "0 <= x3 <= 1 Integer\n",
            "0 <= x4 <= 1 Integer\n",
            "\n",
            "Max Value=17.0/selected items=[0, 3, 4]\n"
          ],
          "name": "stdout"
        }
      ]
    },
    {
      "cell_type": "code",
      "metadata": {
        "colab": {
          "base_uri": "https://localhost:8080/"
        },
        "id": "nAHDMaAqMT6j",
        "outputId": "6e0cf002-8efc-4eae-ce77-bb40aff83f90"
      },
      "source": [
        "# Linear Programming\n",
        "import pulp\n",
        "\n",
        "P=pulp.LpProblem('lp-sample',sense=pulp.LpMaximize)\n",
        "\n",
        "x,y=pulp.LpVariable('x'),pulp.LpVariable('y')\n",
        "\n",
        "# Objective function\n",
        "P += x-y\n",
        "# Constraints\n",
        "P += x+y <= 10\n",
        "P += y <= 8\n",
        "P += 4*x - 3*y <= 20\n",
        "P += x >= 0\n",
        "P += y >= 0\n",
        "\n",
        "print(P)\n",
        "stat = P.solve()\n",
        "print(f'Stat={pulp.LpStatus[stat]}, (x,y)=({x.value()},{y.value()})')\n",
        "print(f'Objective Value={P.objective.value()}')"
      ],
      "execution_count": 34,
      "outputs": [
        {
          "output_type": "stream",
          "text": [
            "lp-sample:\n",
            "MAXIMIZE\n",
            "1*x + -1*y + 0\n",
            "SUBJECT TO\n",
            "_C1: x + y <= 10\n",
            "\n",
            "_C2: y <= 8\n",
            "\n",
            "_C3: 4 x - 3 y <= 20\n",
            "\n",
            "_C4: x >= 0\n",
            "\n",
            "_C5: y >= 0\n",
            "\n",
            "VARIABLES\n",
            "x free Continuous\n",
            "y free Continuous\n",
            "\n",
            "Stat=Optimal, (x,y)=(5.0,0.0)\n",
            "Objective Value=5.0\n"
          ],
          "name": "stdout"
        }
      ]
    }
  ]
}